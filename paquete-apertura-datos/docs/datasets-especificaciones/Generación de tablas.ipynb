{
 "cells": [
  {
   "cell_type": "markdown",
   "metadata": {},
   "source": [
    "# Generación de tablas"
   ]
  },
  {
   "cell_type": "code",
   "execution_count": 91,
   "metadata": {},
   "outputs": [],
   "source": [
    "import pandas as pd\n",
    "import requests\n",
    "import json\n",
    "import os\n",
    "from unidecode import unidecode\n",
    "import re\n",
    "import pdb"
   ]
  },
  {
   "cell_type": "code",
   "execution_count": 92,
   "metadata": {},
   "outputs": [],
   "source": [
    "def _df_cols_to_th(df):\n",
    "    th_cols = [\"        <th>{}</th>\".format(col) for col in df.columns]\n",
    "    return \"\\n\".join(th_cols)    "
   ]
  },
  {
   "cell_type": "code",
   "execution_count": 93,
   "metadata": {},
   "outputs": [],
   "source": [
    "def _df_rows_to_tr(df):\n",
    "\n",
    "    td_rows = []\n",
    "    for row in df.iterrows():\n",
    "        td_row = \"\\n        \".join([\n",
    "            \"<td>{}</td>\".format(element) \n",
    "            for element in list(row[1])\n",
    "        ])\n",
    "        td_rows.append(td_row)\n",
    "    \n",
    "    tr_rows = [\n",
    "        \"\"\"\n",
    "    <tr>\n",
    "        {}\n",
    "    </tr>\n",
    "        \"\"\".format(td_row) for td_row in td_rows\n",
    "    ]\n",
    "\n",
    "    return \"\".join(tr_rows)    "
   ]
  },
  {
   "cell_type": "code",
   "execution_count": 94,
   "metadata": {},
   "outputs": [],
   "source": [
    "def df_to_html(df):\n",
    "    \n",
    "    df = df.fillna(\"\")\n",
    "    \n",
    "    html=\"\"\"\n",
    "<table>\n",
    "    <tr>\n",
    "{columns}\n",
    "    </tr>\n",
    "{rows}\n",
    "</table>\"\"\".format(\n",
    "        columns=_df_cols_to_th(df),\n",
    "        rows=_df_rows_to_tr(df)\n",
    "    )\n",
    "    \n",
    "    return html"
   ]
  },
  {
   "cell_type": "code",
   "execution_count": 95,
   "metadata": {},
   "outputs": [],
   "source": [
    "def generate_specs_tables(df, resource_field=\"recurso\"):\n",
    "    text_elements = []\n",
    "\n",
    "    for recurso in df[resource_field].unique():\n",
    "        text_elements.append(\"### Recurso: {}\".format(recurso.ljust(10)))\n",
    "        text_elements.append(df_to_html(\n",
    "            df[df.recurso == recurso].drop(\"recurso\", axis=1)\n",
    "        ))\n",
    "\n",
    "    return \"\\n\".join(text_elements)"
   ]
  },
  {
   "cell_type": "code",
   "execution_count": 96,
   "metadata": {},
   "outputs": [],
   "source": [
    "def get_example_from_fields(df, filename):\n",
    "    df_transposed = df[[\"titulo\", \"ejemplo\"]].transpose()\n",
    "    df_transposed.columns = df.titulo\n",
    "    df_transposed = df_transposed.drop(\"titulo\")\n",
    "    \n",
    "    df_transposed.to_csv(filename, encoding=\"utf8\", index=False)\n",
    "    df_transposed.to_excel(filename.replace(\".csv\", \".xlsx\")\n",
    "                           , encoding=\"utf8\", index=False)\n",
    "    \n",
    "    return df_transposed"
   ]
  },
  {
   "cell_type": "code",
   "execution_count": 97,
   "metadata": {},
   "outputs": [],
   "source": [
    "def title_to_name(title, decode=True, max_len=None, use_complete_words=True):\n",
    "    \"\"\"Convierte un título en un nombre normalizado para generar urls.\"\"\"\n",
    "    # decodifica y pasa a minúsculas\n",
    "    if decode:\n",
    "        title = unidecode(title)\n",
    "    title = title.lower()\n",
    "\n",
    "    # remueve caracteres no permitidos\n",
    "    filtered_title = re.sub(r'[^a-z0-9- ]+', '', title)\n",
    "\n",
    "    # remueve stop words y espacios y une palabras sólo con un \"-\"\n",
    "    normalized_title = '-'.join([word for word in filtered_title.split()\n",
    "                                 if word not in STOP_WORDS])\n",
    "\n",
    "    # recorto el titulo normalizado si excede la longitud máxima\n",
    "    if max_len and len(normalized_title) > max_len:\n",
    "\n",
    "        # busco la última palabra completa\n",
    "        if use_complete_words:\n",
    "            last_word_index = normalized_title.rindex(\"-\", 0, max_len)\n",
    "            normalized_title = normalized_title[:last_word_index]\n",
    "\n",
    "        # corto en el último caracter\n",
    "        else:\n",
    "            normalized_title = normalized_title[:max_len]\n",
    "\n",
    "    return normalized_title"
   ]
  },
  {
   "cell_type": "code",
   "execution_count": 98,
   "metadata": {},
   "outputs": [],
   "source": [
    "STOP_WORDS = [\n",
    "    \"el\", \"la\", \"los\", \"las\",\n",
    "    \"de\", \"del\",\n",
    "    \"y\", \"a\",\n",
    "    \"un\", \"una\", \"en\"\n",
    "]"
   ]
  },
  {
   "cell_type": "code",
   "execution_count": 99,
   "metadata": {},
   "outputs": [],
   "source": [
    "def generate_example(df, specs_name, resource_field=\"recurso\"):\n",
    "    \n",
    "    if not os.path.exists(specs_name):\n",
    "        os.makedirs(specs_name)\n",
    "    \n",
    "    text_elements = []\n",
    "    for recurso in df[resource_field].unique():\n",
    "        example_filename = os.path.join(\n",
    "            specs_name,\n",
    "            title_to_name(recurso) + \".csv\"\n",
    "        )\n",
    "        \n",
    "        text_elements.append(\"### Recurso: {}\".format(recurso.ljust(10)))\n",
    "        text_elements.append(\"**[CSV]({})** | **[XLSX]({})**\".format(\n",
    "            example_filename,\n",
    "            example_filename.replace(\".csv\", \".xlsx\")\n",
    "        ))\n",
    "        text_elements.append(df_to_html(\n",
    "            get_example_from_fields(\n",
    "                df[df.recurso == recurso].drop(\"recurso\", axis=1),\n",
    "                example_filename\n",
    "            )\n",
    "        ))\n",
    "\n",
    "    return \"\\n\".join(text_elements)"
   ]
  },
  {
   "cell_type": "code",
   "execution_count": 100,
   "metadata": {},
   "outputs": [],
   "source": [
    "def generate_example_section(specs_name):\n",
    "    specs_fields_csv = specs_name + \"-campos.csv\"\n",
    "    \n",
    "    df = pd.read_csv(specs_fields_csv)\n",
    "    md_example_tables = generate_example(df, specs_name)\n",
    "    \n",
    "    md_example = \"\"\"## Ejemplos\n",
    "    \n",
    "{}\"\"\".format(md_example_tables)\n",
    "    \n",
    "    return md_example"
   ]
  },
  {
   "cell_type": "code",
   "execution_count": 101,
   "metadata": {},
   "outputs": [],
   "source": [
    "def generate_field_section(specs_name):\n",
    "    specs_fields_csv = specs_name + \"-campos.csv\"\n",
    "    specs_fields_xlsx = specs_name + \"-campos.xlsx\"\n",
    "    \n",
    "    df = pd.read_csv(specs_fields_csv)\n",
    "    df.to_excel(specs_fields_xlsx, encoding=\"utf8\", index=False)\n",
    "    \n",
    "    fields_section = \"\"\"## Campos\n",
    "\n",
    "Descargar campos en **[CSV]({})** | **[XLSX]({})**\n",
    "\n",
    "{}\"\"\".format(\n",
    "        specs_fields_csv, \n",
    "        specs_fields_xlsx,\n",
    "        generate_specs_tables(df)\n",
    "    )\n",
    "    \n",
    "    return fields_section"
   ]
  },
  {
   "cell_type": "code",
   "execution_count": 102,
   "metadata": {},
   "outputs": [],
   "source": [
    "def generate_class_section(specs_name, class_explain):\n",
    "    specs_example = specs_name + \".csv\"\n",
    "    specs_class_csv = specs_name + \"-clases.csv\"\n",
    "    specs_class_xlsx = specs_name + \"-clases.xlsx\"\n",
    "    \n",
    "    df = pd.read_csv(specs_class_csv)\n",
    "    df.to_excel(specs_class_xlsx, encoding=\"utf8\", index=False)\n",
    "    \n",
    "    class_section = \"\"\"## Clases\n",
    "\n",
    "{}\n",
    "\n",
    "Descargar clases en **[CSV]({})** | **[XLSX]({})**\n",
    "\n",
    "{}\"\"\".format(\n",
    "        class_explain,\n",
    "        specs_class_csv, \n",
    "        specs_class_xlsx,\n",
    "        df_to_html(df)\n",
    "    )\n",
    "    \n",
    "    return class_section"
   ]
  },
  {
   "cell_type": "code",
   "execution_count": 103,
   "metadata": {},
   "outputs": [],
   "source": [
    "def download_specs(specs_name, url, suffix):\n",
    "    specs_filename = \"{}-{}.csv\".format(specs_name, suffix)\n",
    "\n",
    "    print(\"Descargando {}...\".format(specs_filename))\n",
    "    r = requests.get(url, allow_redirects=True)\n",
    "    with open(specs_filename, 'wb') as f:\n",
    "        f.write(r.content)"
   ]
  },
  {
   "cell_type": "code",
   "execution_count": 104,
   "metadata": {},
   "outputs": [],
   "source": [
    "def replace_field_section(specs_md, md_field, all_params):\n",
    "    before_tag = all_params[\"tags\"][\"field_before\"]\n",
    "    after_tag = all_params[\"tags\"][\"field_after\"]\n",
    "   \n",
    "    before_text = specs_md.split(before_tag)[0]\n",
    "    after_text = specs_md.split(after_tag)[1]\n",
    "    \n",
    "    new_specs_md = \"\"\"{before_text}{before_tag}\n",
    "\n",
    "{md_field}\n",
    "\n",
    "{after_tag}{after_text}\"\"\".format(\n",
    "        before_text=before_text,\n",
    "        before_tag=before_tag,\n",
    "        md_field=md_field,\n",
    "        after_tag=after_tag,\n",
    "        after_text=after_text\n",
    "    )\n",
    "    \n",
    "    return new_specs_md"
   ]
  },
  {
   "cell_type": "code",
   "execution_count": 105,
   "metadata": {},
   "outputs": [],
   "source": [
    "def replace_class_section(specs_md, md_class, all_params):\n",
    "    before_tag = all_params[\"tags\"][\"class_before\"]\n",
    "    after_tag = all_params[\"tags\"][\"class_after\"]\n",
    "   \n",
    "    before_text = specs_md.split(before_tag)[0]\n",
    "    after_text = specs_md.split(after_tag)[1]\n",
    "    \n",
    "    new_specs_md = \"\"\"{before_text}{before_tag}\n",
    "\n",
    "{md_class}\n",
    "\n",
    "{after_tag}{after_text}\"\"\".format(\n",
    "        before_text=before_text,\n",
    "        before_tag=before_tag,\n",
    "        md_class=md_class,\n",
    "        after_tag=after_tag,\n",
    "        after_text=after_text\n",
    "    )\n",
    "    \n",
    "    return new_specs_md"
   ]
  },
  {
   "cell_type": "code",
   "execution_count": 106,
   "metadata": {},
   "outputs": [],
   "source": [
    "def replace_example_table(specs_md, md_example, all_params):\n",
    "    before_tag = all_params[\"tags\"][\"example_before\"]\n",
    "    after_tag = all_params[\"tags\"][\"example_after\"]\n",
    "   \n",
    "    before_text = specs_md.split(before_tag)[0]\n",
    "    after_text = specs_md.split(after_tag)[1]\n",
    "    \n",
    "    new_specs_md = \"\"\"{before_text}{before_tag}\n",
    "\n",
    "{md_example}\n",
    "\n",
    "{after_tag}{after_text}\"\"\".format(\n",
    "        before_text=before_text,\n",
    "        before_tag=before_tag,\n",
    "        md_example=md_example,\n",
    "        after_tag=after_tag,\n",
    "        after_text=after_text\n",
    "    )\n",
    "    \n",
    "    return new_specs_md"
   ]
  },
  {
   "cell_type": "code",
   "execution_count": 107,
   "metadata": {},
   "outputs": [],
   "source": [
    "def update_dataset_specs(specs_name, config=\"config.json\"):\n",
    "\n",
    "    # lee el archivo de configuración\n",
    "    with open(\"config.json\", \"r\") as f:\n",
    "        all_params = json.load(f)\n",
    "        specs_params = all_params[\"specs\"][specs_name]\n",
    "    \n",
    "    # descarga las tablas de campos y clases de Google Spreadsheet en CSV\n",
    "    download_specs(specs_name, specs_params[\"gsheet_fields\"], \"campos\")\n",
    "    if \"gsheet_classes\" in specs_params:\n",
    "        download_specs(specs_name, specs_params[\"gsheet_classes\"], \"clases\")\n",
    "    \n",
    "    # re-genera las secciones en base a los CSVs descargados\n",
    "    md_example = generate_example_section(specs_name)\n",
    "    if \"gsheet_classes\" in specs_params:\n",
    "        md_class = generate_class_section(specs_name, specs_params[\"class_explain\"])\n",
    "    md_field = generate_field_section(specs_name)\n",
    "    \n",
    "    # reemplaza las secciones viejas por las nuevas\n",
    "    with open(specs_name + \".md\", \"r\") as f:\n",
    "        specs_md = f.read()\n",
    "    \n",
    "    specs_md = replace_example_table(specs_md, md_example, all_params)\n",
    "    if \"gsheet_classes\" in specs_params:\n",
    "        specs_md = replace_class_section(specs_md, md_class, all_params)\n",
    "    specs_md = replace_field_section(specs_md, md_field, all_params)\n",
    "    \n",
    "    # escribe el .md de especificación actualizado\n",
    "    with open(specs_name + \".md\", \"w\") as f:\n",
    "        f.write(specs_md)"
   ]
  },
  {
   "cell_type": "code",
   "execution_count": 113,
   "metadata": {},
   "outputs": [],
   "source": [
    "def main(): \n",
    "    # lee el archivo de configuración\n",
    "    with open(\"config.json\", \"r\") as f:\n",
    "        params = json.load(f)\n",
    "    \n",
    "    for specs_name in params[\"specs\"]:\n",
    "        print(\"=== Actualizando {} ===\".format(specs_name))\n",
    "        try:\n",
    "            update_dataset_specs(specs_name)\n",
    "        except Exception as e:\n",
    "            print(e)\n",
    "        print()"
   ]
  },
  {
   "cell_type": "code",
   "execution_count": 109,
   "metadata": {},
   "outputs": [
    {
     "name": "stdout",
     "output_type": "stream",
     "text": [
      "Automatic pdb calling has been turned OFF\n"
     ]
    }
   ],
   "source": [
    "%pdb"
   ]
  },
  {
   "cell_type": "code",
   "execution_count": 115,
   "metadata": {},
   "outputs": [
    {
     "name": "stdout",
     "output_type": "stream",
     "text": [
      "Descargando contrataciones-publicas-campos.csv...\n"
     ]
    },
    {
     "ename": "KeyError",
     "evalue": "'recurso'",
     "output_type": "error",
     "traceback": [
      "\u001b[0;31m---------------------------------------------------------------------------\u001b[0m",
      "\u001b[0;31mKeyError\u001b[0m                                  Traceback (most recent call last)",
      "\u001b[0;32m~/anaconda/envs/paquete-apertura-datos/lib/python3.7/site-packages/pandas/core/indexes/base.py\u001b[0m in \u001b[0;36mget_loc\u001b[0;34m(self, key, method, tolerance)\u001b[0m\n\u001b[1;32m   2656\u001b[0m             \u001b[0;32mtry\u001b[0m\u001b[0;34m:\u001b[0m\u001b[0;34m\u001b[0m\u001b[0;34m\u001b[0m\u001b[0m\n\u001b[0;32m-> 2657\u001b[0;31m                 \u001b[0;32mreturn\u001b[0m \u001b[0mself\u001b[0m\u001b[0;34m.\u001b[0m\u001b[0m_engine\u001b[0m\u001b[0;34m.\u001b[0m\u001b[0mget_loc\u001b[0m\u001b[0;34m(\u001b[0m\u001b[0mkey\u001b[0m\u001b[0;34m)\u001b[0m\u001b[0;34m\u001b[0m\u001b[0;34m\u001b[0m\u001b[0m\n\u001b[0m\u001b[1;32m   2658\u001b[0m             \u001b[0;32mexcept\u001b[0m \u001b[0mKeyError\u001b[0m\u001b[0;34m:\u001b[0m\u001b[0;34m\u001b[0m\u001b[0;34m\u001b[0m\u001b[0m\n",
      "\u001b[0;32mpandas/_libs/index.pyx\u001b[0m in \u001b[0;36mpandas._libs.index.IndexEngine.get_loc\u001b[0;34m()\u001b[0m\n",
      "\u001b[0;32mpandas/_libs/index.pyx\u001b[0m in \u001b[0;36mpandas._libs.index.IndexEngine.get_loc\u001b[0;34m()\u001b[0m\n",
      "\u001b[0;32mpandas/_libs/hashtable_class_helper.pxi\u001b[0m in \u001b[0;36mpandas._libs.hashtable.PyObjectHashTable.get_item\u001b[0;34m()\u001b[0m\n",
      "\u001b[0;32mpandas/_libs/hashtable_class_helper.pxi\u001b[0m in \u001b[0;36mpandas._libs.hashtable.PyObjectHashTable.get_item\u001b[0;34m()\u001b[0m\n",
      "\u001b[0;31mKeyError\u001b[0m: 'recurso'",
      "\nDuring handling of the above exception, another exception occurred:\n",
      "\u001b[0;31mKeyError\u001b[0m                                  Traceback (most recent call last)",
      "\u001b[0;32m<ipython-input-115-3a8b51ea2c0b>\u001b[0m in \u001b[0;36m<module>\u001b[0;34m\u001b[0m\n\u001b[0;32m----> 1\u001b[0;31m \u001b[0mupdate_dataset_specs\u001b[0m\u001b[0;34m(\u001b[0m\u001b[0;34m\"contrataciones-publicas\"\u001b[0m\u001b[0;34m)\u001b[0m\u001b[0;34m\u001b[0m\u001b[0;34m\u001b[0m\u001b[0m\n\u001b[0m",
      "\u001b[0;32m<ipython-input-107-01421b1f6923>\u001b[0m in \u001b[0;36mupdate_dataset_specs\u001b[0;34m(specs_name, config)\u001b[0m\n\u001b[1;32m     12\u001b[0m \u001b[0;34m\u001b[0m\u001b[0m\n\u001b[1;32m     13\u001b[0m     \u001b[0;31m# re-genera las secciones en base a los CSVs descargados\u001b[0m\u001b[0;34m\u001b[0m\u001b[0;34m\u001b[0m\u001b[0;34m\u001b[0m\u001b[0m\n\u001b[0;32m---> 14\u001b[0;31m     \u001b[0mmd_example\u001b[0m \u001b[0;34m=\u001b[0m \u001b[0mgenerate_example_section\u001b[0m\u001b[0;34m(\u001b[0m\u001b[0mspecs_name\u001b[0m\u001b[0;34m)\u001b[0m\u001b[0;34m\u001b[0m\u001b[0;34m\u001b[0m\u001b[0m\n\u001b[0m\u001b[1;32m     15\u001b[0m     \u001b[0;32mif\u001b[0m \u001b[0;34m\"gsheet_classes\"\u001b[0m \u001b[0;32min\u001b[0m \u001b[0mspecs_params\u001b[0m\u001b[0;34m:\u001b[0m\u001b[0;34m\u001b[0m\u001b[0;34m\u001b[0m\u001b[0m\n\u001b[1;32m     16\u001b[0m         \u001b[0mmd_class\u001b[0m \u001b[0;34m=\u001b[0m \u001b[0mgenerate_class_section\u001b[0m\u001b[0;34m(\u001b[0m\u001b[0mspecs_name\u001b[0m\u001b[0;34m,\u001b[0m \u001b[0mspecs_params\u001b[0m\u001b[0;34m[\u001b[0m\u001b[0;34m\"class_explain\"\u001b[0m\u001b[0;34m]\u001b[0m\u001b[0;34m)\u001b[0m\u001b[0;34m\u001b[0m\u001b[0;34m\u001b[0m\u001b[0m\n",
      "\u001b[0;32m<ipython-input-100-ca9e48cdf55b>\u001b[0m in \u001b[0;36mgenerate_example_section\u001b[0;34m(specs_name)\u001b[0m\n\u001b[1;32m      3\u001b[0m \u001b[0;34m\u001b[0m\u001b[0m\n\u001b[1;32m      4\u001b[0m     \u001b[0mdf\u001b[0m \u001b[0;34m=\u001b[0m \u001b[0mpd\u001b[0m\u001b[0;34m.\u001b[0m\u001b[0mread_csv\u001b[0m\u001b[0;34m(\u001b[0m\u001b[0mspecs_fields_csv\u001b[0m\u001b[0;34m)\u001b[0m\u001b[0;34m\u001b[0m\u001b[0;34m\u001b[0m\u001b[0m\n\u001b[0;32m----> 5\u001b[0;31m     \u001b[0mmd_example_tables\u001b[0m \u001b[0;34m=\u001b[0m \u001b[0mgenerate_example\u001b[0m\u001b[0;34m(\u001b[0m\u001b[0mdf\u001b[0m\u001b[0;34m,\u001b[0m \u001b[0mspecs_name\u001b[0m\u001b[0;34m)\u001b[0m\u001b[0;34m\u001b[0m\u001b[0;34m\u001b[0m\u001b[0m\n\u001b[0m\u001b[1;32m      6\u001b[0m \u001b[0;34m\u001b[0m\u001b[0m\n\u001b[1;32m      7\u001b[0m     md_example = \"\"\"## Ejemplos\n",
      "\u001b[0;32m<ipython-input-99-9eab58b589e6>\u001b[0m in \u001b[0;36mgenerate_example\u001b[0;34m(df, specs_name, resource_field)\u001b[0m\n\u001b[1;32m      5\u001b[0m \u001b[0;34m\u001b[0m\u001b[0m\n\u001b[1;32m      6\u001b[0m     \u001b[0mtext_elements\u001b[0m \u001b[0;34m=\u001b[0m \u001b[0;34m[\u001b[0m\u001b[0;34m]\u001b[0m\u001b[0;34m\u001b[0m\u001b[0;34m\u001b[0m\u001b[0m\n\u001b[0;32m----> 7\u001b[0;31m     \u001b[0;32mfor\u001b[0m \u001b[0mrecurso\u001b[0m \u001b[0;32min\u001b[0m \u001b[0mdf\u001b[0m\u001b[0;34m[\u001b[0m\u001b[0mresource_field\u001b[0m\u001b[0;34m]\u001b[0m\u001b[0;34m.\u001b[0m\u001b[0munique\u001b[0m\u001b[0;34m(\u001b[0m\u001b[0;34m)\u001b[0m\u001b[0;34m:\u001b[0m\u001b[0;34m\u001b[0m\u001b[0;34m\u001b[0m\u001b[0m\n\u001b[0m\u001b[1;32m      8\u001b[0m         example_filename = os.path.join(\n\u001b[1;32m      9\u001b[0m             \u001b[0mspecs_name\u001b[0m\u001b[0;34m,\u001b[0m\u001b[0;34m\u001b[0m\u001b[0;34m\u001b[0m\u001b[0m\n",
      "\u001b[0;32m~/anaconda/envs/paquete-apertura-datos/lib/python3.7/site-packages/pandas/core/frame.py\u001b[0m in \u001b[0;36m__getitem__\u001b[0;34m(self, key)\u001b[0m\n\u001b[1;32m   2925\u001b[0m             \u001b[0;32mif\u001b[0m \u001b[0mself\u001b[0m\u001b[0;34m.\u001b[0m\u001b[0mcolumns\u001b[0m\u001b[0;34m.\u001b[0m\u001b[0mnlevels\u001b[0m \u001b[0;34m>\u001b[0m \u001b[0;36m1\u001b[0m\u001b[0;34m:\u001b[0m\u001b[0;34m\u001b[0m\u001b[0;34m\u001b[0m\u001b[0m\n\u001b[1;32m   2926\u001b[0m                 \u001b[0;32mreturn\u001b[0m \u001b[0mself\u001b[0m\u001b[0;34m.\u001b[0m\u001b[0m_getitem_multilevel\u001b[0m\u001b[0;34m(\u001b[0m\u001b[0mkey\u001b[0m\u001b[0;34m)\u001b[0m\u001b[0;34m\u001b[0m\u001b[0;34m\u001b[0m\u001b[0m\n\u001b[0;32m-> 2927\u001b[0;31m             \u001b[0mindexer\u001b[0m \u001b[0;34m=\u001b[0m \u001b[0mself\u001b[0m\u001b[0;34m.\u001b[0m\u001b[0mcolumns\u001b[0m\u001b[0;34m.\u001b[0m\u001b[0mget_loc\u001b[0m\u001b[0;34m(\u001b[0m\u001b[0mkey\u001b[0m\u001b[0;34m)\u001b[0m\u001b[0;34m\u001b[0m\u001b[0;34m\u001b[0m\u001b[0m\n\u001b[0m\u001b[1;32m   2928\u001b[0m             \u001b[0;32mif\u001b[0m \u001b[0mis_integer\u001b[0m\u001b[0;34m(\u001b[0m\u001b[0mindexer\u001b[0m\u001b[0;34m)\u001b[0m\u001b[0;34m:\u001b[0m\u001b[0;34m\u001b[0m\u001b[0;34m\u001b[0m\u001b[0m\n\u001b[1;32m   2929\u001b[0m                 \u001b[0mindexer\u001b[0m \u001b[0;34m=\u001b[0m \u001b[0;34m[\u001b[0m\u001b[0mindexer\u001b[0m\u001b[0;34m]\u001b[0m\u001b[0;34m\u001b[0m\u001b[0;34m\u001b[0m\u001b[0m\n",
      "\u001b[0;32m~/anaconda/envs/paquete-apertura-datos/lib/python3.7/site-packages/pandas/core/indexes/base.py\u001b[0m in \u001b[0;36mget_loc\u001b[0;34m(self, key, method, tolerance)\u001b[0m\n\u001b[1;32m   2657\u001b[0m                 \u001b[0;32mreturn\u001b[0m \u001b[0mself\u001b[0m\u001b[0;34m.\u001b[0m\u001b[0m_engine\u001b[0m\u001b[0;34m.\u001b[0m\u001b[0mget_loc\u001b[0m\u001b[0;34m(\u001b[0m\u001b[0mkey\u001b[0m\u001b[0;34m)\u001b[0m\u001b[0;34m\u001b[0m\u001b[0;34m\u001b[0m\u001b[0m\n\u001b[1;32m   2658\u001b[0m             \u001b[0;32mexcept\u001b[0m \u001b[0mKeyError\u001b[0m\u001b[0;34m:\u001b[0m\u001b[0;34m\u001b[0m\u001b[0;34m\u001b[0m\u001b[0m\n\u001b[0;32m-> 2659\u001b[0;31m                 \u001b[0;32mreturn\u001b[0m \u001b[0mself\u001b[0m\u001b[0;34m.\u001b[0m\u001b[0m_engine\u001b[0m\u001b[0;34m.\u001b[0m\u001b[0mget_loc\u001b[0m\u001b[0;34m(\u001b[0m\u001b[0mself\u001b[0m\u001b[0;34m.\u001b[0m\u001b[0m_maybe_cast_indexer\u001b[0m\u001b[0;34m(\u001b[0m\u001b[0mkey\u001b[0m\u001b[0;34m)\u001b[0m\u001b[0;34m)\u001b[0m\u001b[0;34m\u001b[0m\u001b[0;34m\u001b[0m\u001b[0m\n\u001b[0m\u001b[1;32m   2660\u001b[0m         \u001b[0mindexer\u001b[0m \u001b[0;34m=\u001b[0m \u001b[0mself\u001b[0m\u001b[0;34m.\u001b[0m\u001b[0mget_indexer\u001b[0m\u001b[0;34m(\u001b[0m\u001b[0;34m[\u001b[0m\u001b[0mkey\u001b[0m\u001b[0;34m]\u001b[0m\u001b[0;34m,\u001b[0m \u001b[0mmethod\u001b[0m\u001b[0;34m=\u001b[0m\u001b[0mmethod\u001b[0m\u001b[0;34m,\u001b[0m \u001b[0mtolerance\u001b[0m\u001b[0;34m=\u001b[0m\u001b[0mtolerance\u001b[0m\u001b[0;34m)\u001b[0m\u001b[0;34m\u001b[0m\u001b[0;34m\u001b[0m\u001b[0m\n\u001b[1;32m   2661\u001b[0m         \u001b[0;32mif\u001b[0m \u001b[0mindexer\u001b[0m\u001b[0;34m.\u001b[0m\u001b[0mndim\u001b[0m \u001b[0;34m>\u001b[0m \u001b[0;36m1\u001b[0m \u001b[0;32mor\u001b[0m \u001b[0mindexer\u001b[0m\u001b[0;34m.\u001b[0m\u001b[0msize\u001b[0m \u001b[0;34m>\u001b[0m \u001b[0;36m1\u001b[0m\u001b[0;34m:\u001b[0m\u001b[0;34m\u001b[0m\u001b[0;34m\u001b[0m\u001b[0m\n",
      "\u001b[0;32mpandas/_libs/index.pyx\u001b[0m in \u001b[0;36mpandas._libs.index.IndexEngine.get_loc\u001b[0;34m()\u001b[0m\n",
      "\u001b[0;32mpandas/_libs/index.pyx\u001b[0m in \u001b[0;36mpandas._libs.index.IndexEngine.get_loc\u001b[0;34m()\u001b[0m\n",
      "\u001b[0;32mpandas/_libs/hashtable_class_helper.pxi\u001b[0m in \u001b[0;36mpandas._libs.hashtable.PyObjectHashTable.get_item\u001b[0;34m()\u001b[0m\n",
      "\u001b[0;32mpandas/_libs/hashtable_class_helper.pxi\u001b[0m in \u001b[0;36mpandas._libs.hashtable.PyObjectHashTable.get_item\u001b[0;34m()\u001b[0m\n",
      "\u001b[0;31mKeyError\u001b[0m: 'recurso'"
     ]
    }
   ],
   "source": [
    "update_dataset_specs(\"contrataciones-publicas\")"
   ]
  },
  {
   "cell_type": "code",
   "execution_count": 116,
   "metadata": {},
   "outputs": [
    {
     "name": "stdout",
     "output_type": "stream",
     "text": [
      "=== Actualizando nomina-funcionarios ===\n",
      "Descargando nomina-funcionarios-campos.csv...\n",
      "Descargando nomina-funcionarios-clases.csv...\n",
      "\n",
      "=== Actualizando declaraciones-juradas ===\n",
      "Descargando declaraciones-juradas-campos.csv...\n",
      "\n",
      "=== Actualizando contrataciones-publicas ===\n",
      "Descargando contrataciones-publicas-campos.csv...\n",
      "'recurso'\n",
      "\n",
      "=== Actualizando presupuesto ===\n",
      "Descargando presupuesto-campos.csv...\n",
      "\n",
      "=== Actualizando educacion ===\n",
      "Descargando educacion-campos.csv...\n",
      "\n",
      "=== Actualizando denuncias ===\n",
      "Descargando denuncias-campos.csv...\n",
      "\n",
      "=== Actualizando organigrama ===\n",
      "Descargando organigrama-campos.csv...\n",
      "\n",
      "=== Actualizando permisos ===\n",
      "Descargando permisos-campos.csv...\n",
      "'recurso'\n",
      "\n",
      "=== Actualizando registro-proveedores ===\n",
      "Descargando registro-proveedores-campos.csv...\n",
      "\n",
      "=== Actualizando elecciones ===\n",
      "Descargando elecciones-campos.csv...\n",
      "'recurso'\n",
      "\n",
      "=== Actualizando servicios ===\n",
      "Descargando servicios-campos.csv...\n",
      "\n",
      "=== Actualizando tramites ===\n",
      "Descargando tramites-campos.csv...\n",
      "\n",
      "=== Actualizando crimen ===\n",
      "Descargando crimen-campos.csv...\n",
      "\n",
      "=== Actualizando normativa ===\n",
      "Descargando normativa-campos.csv...\n",
      "\n",
      "=== Actualizando calidad-agua ===\n",
      "Descargando calidad-agua-campos.csv...\n",
      "\n",
      "=== Actualizando calidad-aire ===\n",
      "Descargando calidad-aire-campos.csv...\n",
      "\n",
      "=== Actualizando salud ===\n",
      "Descargando salud-campos.csv...\n",
      "\n"
     ]
    }
   ],
   "source": [
    "main()"
   ]
  },
  {
   "cell_type": "code",
   "execution_count": null,
   "metadata": {},
   "outputs": [],
   "source": []
  },
  {
   "cell_type": "code",
   "execution_count": null,
   "metadata": {},
   "outputs": [],
   "source": []
  },
  {
   "cell_type": "code",
   "execution_count": null,
   "metadata": {},
   "outputs": [],
   "source": []
  }
 ],
 "metadata": {
  "kernelspec": {
   "display_name": "Python 3",
   "language": "python",
   "name": "python3"
  },
  "toc": {
   "colors": {
    "hover_highlight": "#DAA520",
    "running_highlight": "#FF0000",
    "selected_highlight": "#FFD700"
   },
   "moveMenuLeft": true,
   "nav_menu": {
    "height": "12px",
    "width": "252px"
   },
   "navigate_menu": true,
   "number_sections": true,
   "sideBar": true,
   "threshold": 4,
   "toc_cell": false,
   "toc_section_display": "block",
   "toc_window_display": false
  }
 },
 "nbformat": 4,
 "nbformat_minor": 2
}
